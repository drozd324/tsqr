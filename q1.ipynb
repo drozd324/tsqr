{
 "cells": [
  {
   "cell_type": "code",
   "execution_count": 2,
   "metadata": {},
   "outputs": [],
   "source": [
    "import numpy as np\n",
    "import matplotlib.pyplot as plt"
   ]
  },
  {
   "cell_type": "markdown",
   "metadata": {},
   "source": [
    "# Q1"
   ]
  },
  {
   "cell_type": "code",
   "execution_count": 29,
   "metadata": {},
   "outputs": [],
   "source": [
    "def decomp1d(n, num_blocks, sub_mat_index):\n",
    "    \"\"\"_summary_\n",
    "\n",
    "    Args:\n",
    "        n (int): matrix lenght\n",
    "        num_blocks (int): number of blocks to split into\n",
    "        sub_mat_index (int): index of sub matrix row\n",
    "\n",
    "    Returns:\n",
    "        _type_: _description_\n",
    "    \"\"\"\n",
    "    remainder = n % num_blocks\n",
    "    base = n // num_blocks\n",
    "\n",
    "    if (sub_mat_index < remainder):\n",
    "        s =  sub_mat_index * (base+1)\n",
    "        e = (sub_mat_index * (base+1)) + base+1\n",
    "        return s, e  # start, end\n",
    "    else:\n",
    "        s = (remainder * (base+1) * remainder) + ((max(sub_mat_index-remainder, 0)) * base)\n",
    "        e = (remainder * (base+1) * remainder) + ((max(sub_mat_index-remainder, 0)) * base) + base\n",
    "        return s, e \n",
    "   \n",
    "def decomp_matrix(A, num_blocks):\n",
    "    a = [[0]*num_blocks for i in range(num_blocks)]\n",
    "    m, n = A.shape\n",
    "    \n",
    "    for i in range(num_blocks):\n",
    "        for j in range(num_blocks):\n",
    "            s1, e1 = decomp1d(m, num_blocks, i)\n",
    "            s2, e2 = decomp1d(n, num_blocks, j)\n",
    "            a[i][j] = A[s1:e1, s2: e2]\n",
    "    \n",
    "    return a            \n",
    "\n",
    "def TSQR(A, num_rows):\n",
    "    A = decomp_matrix(A, num_rows)\n",
    "    \n",
    "    \n",
    "#    return Q, R\n",
    "\n",
    "    "
   ]
  },
  {
   "cell_type": "code",
   "execution_count": 30,
   "metadata": {},
   "outputs": [
    {
     "name": "stdout",
     "output_type": "stream",
     "text": [
      "0 0\n",
      "[[1. 0. 0. 0.]\n",
      " [0. 1. 0. 0.]\n",
      " [0. 0. 1. 0.]\n",
      " [0. 0. 0. 1.]]\n",
      "0 1\n",
      "[[0. 0. 0.]\n",
      " [0. 0. 0.]\n",
      " [0. 0. 0.]\n",
      " [0. 0. 0.]]\n",
      "0 2\n",
      "[[0. 0. 0.]\n",
      " [0. 0. 0.]\n",
      " [0. 0. 0.]\n",
      " [0. 0. 0.]]\n",
      "1 0\n",
      "[[0. 0. 0. 0.]\n",
      " [0. 0. 0. 0.]\n",
      " [0. 0. 0. 0.]]\n",
      "1 1\n",
      "[[1. 0. 0.]\n",
      " [0. 1. 0.]\n",
      " [0. 0. 1.]]\n",
      "1 2\n",
      "[[0. 0. 0.]\n",
      " [0. 0. 0.]\n",
      " [0. 0. 0.]]\n",
      "2 0\n",
      "[[0. 0. 0. 0.]\n",
      " [0. 0. 0. 0.]\n",
      " [0. 0. 0. 0.]]\n",
      "2 1\n",
      "[[0. 0. 0.]\n",
      " [0. 0. 0.]\n",
      " [0. 0. 0.]]\n",
      "2 2\n",
      "[[1. 0. 0.]\n",
      " [0. 1. 0.]\n",
      " [0. 0. 1.]]\n"
     ]
    }
   ],
   "source": [
    "A = np.eye(10)\n",
    "num = 3  \n",
    "for i in range(num):\n",
    "    for j in range(num):\n",
    "        print(i, j)\n",
    "        print(decomp_matrix(A, num)[i][j])"
   ]
  }
 ],
 "metadata": {
  "kernelspec": {
   "display_name": "Python 3",
   "language": "python",
   "name": "python3"
  },
  "language_info": {
   "codemirror_mode": {
    "name": "ipython",
    "version": 3
   },
   "file_extension": ".py",
   "mimetype": "text/x-python",
   "name": "python",
   "nbconvert_exporter": "python",
   "pygments_lexer": "ipython3",
   "version": "3.12.3"
  }
 },
 "nbformat": 4,
 "nbformat_minor": 2
}
